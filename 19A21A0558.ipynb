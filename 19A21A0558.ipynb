{
  "nbformat": 4,
  "nbformat_minor": 0,
  "metadata": {
    "colab": {
      "name": " 19A21A0558.ipynb",
      "provenance": [],
      "authorship_tag": "ABX9TyOJQFoDR9zk6d7WmLsV4/TX",
      "include_colab_link": true
    },
    "kernelspec": {
      "name": "python3",
      "display_name": "Python 3"
    },
    "language_info": {
      "name": "python"
    }
  },
  "cells": [
    {
      "cell_type": "markdown",
      "metadata": {
        "id": "view-in-github",
        "colab_type": "text"
      },
      "source": [
        "<a href=\"https://colab.research.google.com/github/Haneef-Shaik/python-lab/blob/main/19A21A0558.ipynb\" target=\"_parent\"><img src=\"https://colab.research.google.com/assets/colab-badge.svg\" alt=\"Open In Colab\"/></a>"
      ]
    },
    {
      "cell_type": "code",
      "metadata": {
        "colab": {
          "base_uri": "https://localhost:8080/"
        },
        "id": "15n7aAlDZTlE",
        "outputId": "6bbbdf01-0c7f-4397-f75a-b4ab6e71114e"
      },
      "source": [
        "print(\"hello haneef\")"
      ],
      "execution_count": null,
      "outputs": [
        {
          "output_type": "stream",
          "text": [
            "hello haneef\n"
          ],
          "name": "stdout"
        }
      ]
    }
  ]
}